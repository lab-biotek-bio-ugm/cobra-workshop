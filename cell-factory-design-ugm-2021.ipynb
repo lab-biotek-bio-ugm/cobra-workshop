{
 "cells": [
  {
   "cell_type": "markdown",
   "id": "unexpected-battery",
   "metadata": {},
   "source": [
    "# Pengantar _Computer Aided Cell Factory Design_\n",
    "Oleh: **Matin Nuhamunada, M.Sc.** \\\n",
    "_Laboratorium Bioteknologi, Fakultas Biologi, Universitas Gadjah Mada_ \\\n",
    "_matin_nuhamunada@ugm.ac.id_\n",
    "\n",
    "## Daftar Isi\n",
    "* [Pengantar](#section1)\n",
    "* [Setting Up Environment](#section2)\n",
    "* [Database genome-scale metabolic model](#section3)\n",
    "* [Eksplorasi dan Simulasi Model](#section4)\n",
    "* [Manipulasi model & Aplikasi](#section5)\n",
    "    * [Membuat knock-out](#section5-1)\n",
    "    * [Mengubah medium](#section5-2)\n",
    "    * [Mengubah objektif](#section5-3)\n",
    "    * [Aplikasi: ekspresi heterologous vanilin](#section5-4)\n",
    "* [What's next? COBRA Plugins & DD Decaf](#section6)\n",
    "<a name=\"section1\"></a>\n",
    "\n",
    "## Pengantar\n",
    "Materi ini ditulis dalam rangka mendampingi workshop Brainstorming BIOS yang diselenggarakan oleh BEM Fakultas Biologi UGM. Workshop ini bertujuan untuk mengenalkan bagaimana CAD (_Computer Aided Design_) diaplikasikan dalam bioteknologi / metabolic engineering. Materi pada workshop ini diringkas dari workshop Metabolic Modeling for Cell Factory Design dari DTU Biosustain, dan selengkapnya dapat diakses di https://biosustain.github.io/cell-factory-design-course/.\n",
    "\n",
    "[**Slide pengantar workshop dapat diakses di sini.**](https://drive.google.com/file/d/1tB-edC5l5apt0Bi8riDjBBar6J--yasf/view?usp=sharing)\n",
    "\n",
    "Karena materi pada workshop ini lebih ke arah praktis, ada baiknya peserta juga mempelajari materi / kuliah [**Transformasi Digital**](https://elok.ugm.ac.id/course/view.php?id=632) (skill dasar Python), [**Bioinformatika**](https://elok.ugm.ac.id/course/view.php?id=1136), dan **Bioteknologi** (Pengantar Systems & Synthetic Biology). Materi kuliah pengantar systems & synthetic biology (archive Kuliah Bioteknologi semester genap 2020) dapat diakses di: http://ugm.id/lectsystembio2020 & http://ugm.id/lectsyntheticbio2020\n",
    "<a name=\"section2\"></a>\n",
    "\n",
    "## Setting Up Environment\n",
    "* Saya merekomendasikan untuk menggunakan OS Ubuntu/Linux (ex: menggunakan [WSL2](https://docs.microsoft.com/en-us/windows/wsl/install-win10))\n",
    "* Ikuti petunjuk instalasi Conda di: https://docs.conda.io/projects/conda/en/latest/user-guide/install/index.html#\n",
    "* Buat environment sesuai petunjuk di https://biosustain.github.io/cell-factory-design-course/setup/\n",
    "\n",
    "### Jika ada problem dengan instalasi environment\n",
    "Jika ada problem dengan instalasi library, coba install dengan cara berikut:\n",
    "> *conda install -c conda-forge jupyterlab* \\\n",
    "> *pip install cameo* \\\n",
    "> *pip install escher* \\\n",
    "> *conda install -c conda-forge nodejs* \\\n",
    "> *jupyter labextension install @jupyter-widgets/jupyterlab-manager* \\\n",
    "> *jupyter labextension install escher*\n",
    "\n",
    "<a name=\"section3\"></a>\n",
    "\n",
    "## Database Genome Scale Metabolic Model\n",
    "* Buka database: http://bigg.ucsd.edu/\n",
    "* Cari model: **e_coli_core**\n",
    "* Ada berapa banyak metabolit, reaksi, dan gen pada model tersebut?\n",
    "* Genom apa yang digunakan sebagai dasar dari model tersebut?\n",
    "* Reaksi & stoikiometri?\n",
    "* Escher Map?\n",
    "* Bandingkan [**e_coli_core**](http://bigg.ucsd.edu/models/e_coli_core) dengan [**iML1515**](http://bigg.ucsd.edu/models/iML1515). Apa perbedaan dari kedua model tersebut? Jumlah Metabolit, Reaksi, Gen? Referensi genom? Escher Map? \n",
    "<a name=\"section4\"></a>\n",
    "\n",
    "## Eksplorasi dan Simulasi Model"
   ]
  },
  {
   "cell_type": "code",
   "execution_count": 1,
   "id": "convinced-queue",
   "metadata": {},
   "outputs": [],
   "source": [
    "# load library\n",
    "from cameo import models\n",
    "from cameo import load_model\n",
    "from cameo import fba\n",
    "from escher import Builder\n",
    "from cobra import Reaction, Metabolite"
   ]
  },
  {
   "cell_type": "code",
   "execution_count": 2,
   "id": "faced-portable",
   "metadata": {},
   "outputs": [
    {
     "data": {
      "text/html": [
       "\n",
       "        <table>\n",
       "            <tr>\n",
       "                <td><strong>Name</strong></td>\n",
       "                <td>e_coli_core</td>\n",
       "            </tr><tr>\n",
       "                <td><strong>Memory address</strong></td>\n",
       "                <td>0x07fd3a6a98760</td>\n",
       "            </tr><tr>\n",
       "                <td><strong>Number of metabolites</strong></td>\n",
       "                <td>72</td>\n",
       "            </tr><tr>\n",
       "                <td><strong>Number of reactions</strong></td>\n",
       "                <td>95</td>\n",
       "            </tr><tr>\n",
       "                <td><strong>Number of groups</strong></td>\n",
       "                <td>0</td>\n",
       "            </tr><tr>\n",
       "                <td><strong>Objective expression</strong></td>\n",
       "                <td>1.0*BIOMASS_Ecoli_core_w_GAM - 1.0*BIOMASS_Ecoli_core_w_GAM_reverse_712e5</td>\n",
       "            </tr><tr>\n",
       "                <td><strong>Compartments</strong></td>\n",
       "                <td>extracellular space, cytosol</td>\n",
       "            </tr>\n",
       "          </table>"
      ],
      "text/plain": [
       "<Model e_coli_core at 0x7fd3a6a98760>"
      ]
     },
     "execution_count": 2,
     "metadata": {},
     "output_type": "execute_result"
    }
   ],
   "source": [
    "# load model e_coli_core\n",
    "# model ini sudah tersedia di library\n",
    "model = load_model('e_coli_core')\n",
    "\n",
    "# ada berapa banyak metabolit & reaksi? Objektif? \n",
    "model\n",
    "\n",
    "# bagaimana mengakses model yang ada di BIGG?\n",
    "#models.index_models_bigg()\n",
    "#models.bigg.iML1515\n",
    "\n",
    "# anda juga bisa mengunduh model (format SBML) kemudian load model dengan menggunakan cameo"
   ]
  },
  {
   "cell_type": "code",
   "execution_count": 3,
   "id": "brilliant-diabetes",
   "metadata": {},
   "outputs": [
    {
     "data": {
      "text/plain": [
       "137"
      ]
     },
     "execution_count": 3,
     "metadata": {},
     "output_type": "execute_result"
    }
   ],
   "source": [
    "# bagaimana mengakses komponen dalam model?\n",
    "#model.genes\n",
    "\n",
    "# ada berapa banyak gen? \n",
    "len(model.genes)"
   ]
  },
  {
   "cell_type": "code",
   "execution_count": 4,
   "id": "going-mercury",
   "metadata": {},
   "outputs": [
    {
     "name": "stdout",
     "output_type": "stream",
     "text": [
      "Downloading Map from https://escher.github.io/1-0-0/6/maps/Escherichia%20coli/e_coli_core.Core%20metabolism.json\n"
     ]
    },
    {
     "data": {
      "application/vnd.jupyter.widget-view+json": {
       "model_id": "9c04ff65cce2401eac9692188818669a",
       "version_major": 2,
       "version_minor": 0
      },
      "text/plain": [
       "Builder()"
      ]
     },
     "metadata": {},
     "output_type": "display_data"
    }
   ],
   "source": [
    "# load escher map - map kosong tanpa data\n",
    "builder = Builder(\n",
    "    map_name='e_coli_core.Core metabolism'\n",
    ")\n",
    "builder"
   ]
  },
  {
   "cell_type": "markdown",
   "id": "brilliant-connecticut",
   "metadata": {},
   "source": [
    "<img src=\"maps/01.svg\">"
   ]
  },
  {
   "cell_type": "code",
   "execution_count": 5,
   "id": "higher-printing",
   "metadata": {},
   "outputs": [
    {
     "data": {
      "text/html": [
       "\n",
       "        <table>\n",
       "            <tr>\n",
       "                <td><strong>Metabolite identifier</strong></td><td>g3p_c</td>\n",
       "            </tr><tr>\n",
       "                <td><strong>Name</strong></td><td>Glyceraldehyde 3-phosphate</td>\n",
       "            </tr><tr>\n",
       "                <td><strong>Memory address</strong></td>\n",
       "                <td>0x07fd3b7dc6dc0</td>\n",
       "            </tr><tr>\n",
       "                <td><strong>Formula</strong></td><td>C3H5O6P</td>\n",
       "            </tr><tr>\n",
       "                <td><strong>Compartment</strong></td><td>c</td>\n",
       "            </tr><tr>\n",
       "                <td><strong>In 7 reaction(s)</strong></td><td>\n",
       "                    TKT1, TALA, FBA, TPI, GAPD, TKT2, BIOMASS_Ecoli_core_w_GAM</td>\n",
       "            </tr>\n",
       "        </table>"
      ],
      "text/plain": [
       "<Metabolite g3p_c at 0x7fd3b7dc6dc0>"
      ]
     },
     "execution_count": 5,
     "metadata": {},
     "output_type": "execute_result"
    }
   ],
   "source": [
    "# mari kita mencari tahu informasi terkait g3p_c, c disini menunjukkan lokasi metabolit \n",
    "model.metabolites.get_by_id('g3p_c')\n",
    "\n",
    "# ada berapa reaksi yang menggunakan g3p_c?"
   ]
  },
  {
   "cell_type": "code",
   "execution_count": 6,
   "id": "reliable-paris",
   "metadata": {},
   "outputs": [
    {
     "data": {
      "text/html": [
       "\n",
       "        <table>\n",
       "            <tr>\n",
       "                <td><strong>Reaction identifier</strong></td><td>FBA</td>\n",
       "            </tr><tr>\n",
       "                <td><strong>Name</strong></td><td>Fructose-bisphosphate aldolase</td>\n",
       "            </tr><tr>\n",
       "                <td><strong>Memory address</strong></td>\n",
       "                <td>0x07fd3b7bc6c70</td>\n",
       "            </tr><tr>\n",
       "                <td><strong>Stoichiometry</strong></td>\n",
       "                <td>\n",
       "                    <p style='text-align:right'>fdp_c <=> dhap_c + g3p_c</p>\n",
       "                    <p style='text-align:right'>D-Fructose 1,6-bisphosphate <=> Dihydroxyacetone phosphate + Glyceraldehyde 3-phosphate</p>\n",
       "                </td>\n",
       "            </tr><tr>\n",
       "                <td><strong>GPR</strong></td><td>b2097 or b1773 or b2925</td>\n",
       "            </tr><tr>\n",
       "                <td><strong>Lower bound</strong></td><td>-1000.0</td>\n",
       "            </tr><tr>\n",
       "                <td><strong>Upper bound</strong></td><td>1000.0</td>\n",
       "            </tr>\n",
       "        </table>\n",
       "        "
      ],
      "text/plain": [
       "<Reaction FBA at 0x7fd3b7bc6c70>"
      ]
     },
     "execution_count": 6,
     "metadata": {},
     "output_type": "execute_result"
    }
   ],
   "source": [
    "# detail reaksi FBA - Fructose-bisphosphate aldolase\n",
    "model.reactions.get_by_id('FBA')"
   ]
  },
  {
   "cell_type": "code",
   "execution_count": 7,
   "id": "african-cartridge",
   "metadata": {},
   "outputs": [
    {
     "data": {
      "text/plain": [
       "0.8739215069684303"
      ]
     },
     "execution_count": 7,
     "metadata": {},
     "output_type": "execute_result"
    }
   ],
   "source": [
    "# simulasi model\n",
    "s = fba(model)\n",
    "flux = s.fluxes.to_frame()\n",
    "s.objective_value\n",
    "#flux.loc['FBA', 'fluxes']"
   ]
  },
  {
   "cell_type": "code",
   "execution_count": 8,
   "id": "distinct-stranger",
   "metadata": {},
   "outputs": [
    {
     "name": "stdout",
     "output_type": "stream",
     "text": [
      "Downloading Map from https://escher.github.io/1-0-0/6/maps/Escherichia%20coli/e_coli_core.Core%20metabolism.json\n"
     ]
    },
    {
     "data": {
      "application/vnd.jupyter.widget-view+json": {
       "model_id": "0846978775374e368ac1494d003d4de4",
       "version_major": 2,
       "version_minor": 0
      },
      "text/plain": [
       "Builder(reaction_data={'PFK': 7.477381962160287, 'PFL': 0.0, 'PGI': 4.860861146496827, 'PGK': -16.023526143167…"
      ]
     },
     "metadata": {},
     "output_type": "display_data"
    }
   ],
   "source": [
    "# map fluxes\n",
    "builder = Builder(\n",
    "    map_name='e_coli_core.Core metabolism',\n",
    "    reaction_data=s.fluxes,\n",
    ")\n",
    "builder"
   ]
  },
  {
   "cell_type": "markdown",
   "id": "tough-average",
   "metadata": {},
   "source": [
    "<img src=\"maps/02.svg\">"
   ]
  },
  {
   "cell_type": "markdown",
   "id": "selective-saturn",
   "metadata": {},
   "source": [
    "<a name=\"section5\"></a>\n",
    "\n",
    "## Manipulasi Model\n",
    "<a name=\"section5-1\"></a>\n",
    "\n",
    "### Membuat knock-out"
   ]
  },
  {
   "cell_type": "code",
   "execution_count": 9,
   "id": "prescription-canada",
   "metadata": {},
   "outputs": [
    {
     "name": "stdout",
     "output_type": "stream",
     "text": [
      "FBA bounds WT (-1000.0, 1000.0)\n",
      "FBA bounds mutant (0, 0)\n",
      "growth rate WT: 0.8739215069684303\n",
      "growth rate mutant: 0.7040369478590354\n",
      "Downloading Map from https://escher.github.io/1-0-0/6/maps/Escherichia%20coli/e_coli_core.Core%20metabolism.json\n"
     ]
    },
    {
     "data": {
      "application/vnd.jupyter.widget-view+json": {
       "model_id": "beee242218334dee81faf524aee6f09e",
       "version_major": 2,
       "version_minor": 0
      },
      "text/plain": [
       "Builder(reaction_data={'PFK': -7.647270926404825e-15, 'PFL': 0.0, 'PGI': -18.04341091820498, 'PGK': -8.8287641…"
      ]
     },
     "metadata": {},
     "output_type": "display_data"
    }
   ],
   "source": [
    "# membuat copy dari model\n",
    "mutant = model.copy()\n",
    "\n",
    "# knockout reaksi FBA\n",
    "mutant.reactions.FBA.knock_out()\n",
    "\n",
    "# flux balance analysis pada mutan\n",
    "s_mutant = fba(mutant)\n",
    "\n",
    "# check perubahan flux\n",
    "print('FBA bounds WT', model.reactions.FBA.bounds)\n",
    "print('FBA bounds mutant', mutant.reactions.FBA.bounds)\n",
    "print('growth rate WT:', s.objective_value)\n",
    "print('growth rate mutant:',s_mutant.objective_value)\n",
    "\n",
    "# map flux\n",
    "builder = Builder(\n",
    "    map_name='e_coli_core.Core metabolism',\n",
    "    reaction_data=s_mutant.fluxes,\n",
    ")\n",
    "builder"
   ]
  },
  {
   "cell_type": "markdown",
   "id": "genetic-characteristic",
   "metadata": {},
   "source": [
    "<img src=\"maps/03.svg\">"
   ]
  },
  {
   "cell_type": "markdown",
   "id": "welsh-alias",
   "metadata": {},
   "source": [
    "<a name=\"section5-2\"></a>\n",
    "\n",
    "### Mengubah medium"
   ]
  },
  {
   "cell_type": "code",
   "execution_count": 10,
   "id": "heavy-tumor",
   "metadata": {},
   "outputs": [
    {
     "data": {
      "text/plain": [
       "{'EX_co2_e': 1000.0,\n",
       " 'EX_glc__D_e': 10.0,\n",
       " 'EX_h_e': 1000.0,\n",
       " 'EX_h2o_e': 1000.0,\n",
       " 'EX_nh4_e': 1000.0,\n",
       " 'EX_o2_e': 1000.0,\n",
       " 'EX_pi_e': 1000.0}"
      ]
     },
     "execution_count": 10,
     "metadata": {},
     "output_type": "execute_result"
    }
   ],
   "source": [
    "# melihat medium\n",
    "model.medium"
   ]
  },
  {
   "cell_type": "code",
   "execution_count": 11,
   "id": "electoral-settle",
   "metadata": {},
   "outputs": [
    {
     "name": "stdout",
     "output_type": "stream",
     "text": [
      "Downloading Map from https://escher.github.io/1-0-0/6/maps/Escherichia%20coli/e_coli_core.Core%20metabolism.json\n"
     ]
    },
    {
     "data": {
      "application/vnd.jupyter.widget-view+json": {
       "model_id": "7753c684c86f44638f87a391bc206664",
       "version_major": 2,
       "version_minor": 0
      },
      "text/plain": [
       "Builder(reaction_data={'PFK': 9.789458863898286, 'PFL': 17.804674217935286, 'PGI': 9.95660909530426, 'PGK': -1…"
      ]
     },
     "metadata": {},
     "output_type": "display_data"
    }
   ],
   "source": [
    "# mengubah medium menjadi anaerobik dengan menghilangkan O2\n",
    "medium = model.medium\n",
    "medium['EX_o2_e'] = 0.0000\n",
    "model.medium = medium\n",
    "s_anaerobic = fba(model)\n",
    "\n",
    "# map flux\n",
    "builder = Builder(\n",
    "    map_name='e_coli_core.Core metabolism',\n",
    "    reaction_data=s_anaerobic.fluxes,\n",
    ")\n",
    "builder"
   ]
  },
  {
   "cell_type": "markdown",
   "id": "fifteen-shelter",
   "metadata": {},
   "source": [
    "<img src=\"maps/04.svg\">"
   ]
  },
  {
   "cell_type": "markdown",
   "id": "handy-candle",
   "metadata": {},
   "source": [
    "<a name=\"section5-3\"></a>\n",
    "\n",
    "### Mengubah objective"
   ]
  },
  {
   "cell_type": "code",
   "execution_count": 12,
   "id": "conceptual-enterprise",
   "metadata": {},
   "outputs": [
    {
     "name": "stdout",
     "output_type": "stream",
     "text": [
      "max 1.0*BIOMASS_Ecoli_core_w_GAM - 1.0*BIOMASS_Ecoli_core_w_GAM_reverse_712e5\n"
     ]
    }
   ],
   "source": [
    "# return medium to normal\n",
    "medium['EX_o2_e'] = 1000.0\n",
    "model.medium = medium\n",
    "\n",
    "print(model.objective.direction, model.objective.expression)"
   ]
  },
  {
   "cell_type": "code",
   "execution_count": 13,
   "id": "discrete-corps",
   "metadata": {},
   "outputs": [
    {
     "data": {
      "text/html": [
       "\n",
       "        <table>\n",
       "            <tr>\n",
       "                <td><strong>Reaction identifier</strong></td><td>ATPM</td>\n",
       "            </tr><tr>\n",
       "                <td><strong>Name</strong></td><td>ATP maintenance requirement</td>\n",
       "            </tr><tr>\n",
       "                <td><strong>Memory address</strong></td>\n",
       "                <td>0x07fd3b7be0910</td>\n",
       "            </tr><tr>\n",
       "                <td><strong>Stoichiometry</strong></td>\n",
       "                <td>\n",
       "                    <p style='text-align:right'>atp_c + h2o_c --> adp_c + h_c + pi_c</p>\n",
       "                    <p style='text-align:right'>ATP C10H12N5O13P3 + H2O H2O --> ADP C10H12N5O10P2 + H+ + Phosphate</p>\n",
       "                </td>\n",
       "            </tr><tr>\n",
       "                <td><strong>GPR</strong></td><td></td>\n",
       "            </tr><tr>\n",
       "                <td><strong>Lower bound</strong></td><td>8.39</td>\n",
       "            </tr><tr>\n",
       "                <td><strong>Upper bound</strong></td><td>1000.0</td>\n",
       "            </tr>\n",
       "        </table>\n",
       "        "
      ],
      "text/plain": [
       "<Reaction ATPM at 0x7fd3b7be0910>"
      ]
     },
     "execution_count": 13,
     "metadata": {},
     "output_type": "execute_result"
    }
   ],
   "source": [
    "# kita coba ubah objektif untuk memaksimalkan ATP Maintenance\n",
    "model.reactions.ATPM"
   ]
  },
  {
   "cell_type": "code",
   "execution_count": 14,
   "id": "vanilla-appointment",
   "metadata": {},
   "outputs": [
    {
     "name": "stdout",
     "output_type": "stream",
     "text": [
      "Downloading Map from https://escher.github.io/1-0-0/6/maps/Escherichia%20coli/e_coli_core.Core%20metabolism.json\n"
     ]
    },
    {
     "data": {
      "application/vnd.jupyter.widget-view+json": {
       "model_id": "f09d1a3d242f4ed890b2c7dae5307723",
       "version_major": 2,
       "version_minor": 0
      },
      "text/plain": [
       "Builder(reaction_data={'PFK': 10.0, 'PFL': 0.0, 'PGI': 10.0, 'PGK': -20.0, 'PGL': 0.0, 'ACALD': 0.0, 'AKGt2r':…"
      ]
     },
     "metadata": {},
     "output_type": "display_data"
    }
   ],
   "source": [
    "model.objective = model.reactions.ATPM\n",
    "s_atpm = fba(model)\n",
    "\n",
    "# map flux\n",
    "builder = Builder(\n",
    "    map_name='e_coli_core.Core metabolism',\n",
    "    reaction_data=s_atpm.fluxes,\n",
    ")\n",
    "builder"
   ]
  },
  {
   "cell_type": "markdown",
   "id": "significant-argentina",
   "metadata": {},
   "source": [
    "<img src=\"maps/05.svg\">"
   ]
  },
  {
   "cell_type": "markdown",
   "id": "coupled-mustang",
   "metadata": {},
   "source": [
    "## Aplikasi: ekspresi heterologous vanilin\n",
    "Selanjutnya, kita akan mencoba mendesain sel supaya dapat menghasilkan vanilin. \n",
    "\n",
    "_Vanillin is not produced by S. cervisiae. In their work an heterolgous pathway is inserted to allow generate a vanillin production strain. The pathway is described as:_\n",
    "\n",
    "<img src=\"https://static-content.springer.com/image/art%3A10.1186%2F1475-2859-9-84/MediaObjects/12934_2010_Article_474_Fig1_HTML.jpg\">\n",
    "\n",
    "_**Schematic representation of the de novo VG biosynthetic pathway in S. Cerevisisae (as designed by Hansen et al [5])**. Metabolites are shown in black, enzymes are shown in black and in italic, cofactors and additional precursors are shown in red. Reactions catalyzed by heterologously introduced enzymes are shown in red. Reactions converting glucose to aromatic amino acids are represented by dashed black arrows. Metabolite secretion is represented by solid black arrows where relative thickness corresponds to relative extracellular accumulation. 3-DSH stands for 3-dedhydroshikimate, PAC stands for protocathechuic acid, PAL stands for protocatechuic aldehyde, SAM stands for S-adenosylmethionine. 3DSD stands for 3-dedhydroshikimate dehydratase, ACAR stands for aryl carboxylic acid reductase, PPTase stands for phosphopantetheine transferase, hsOMT stands for O-methyltransferase, and UGT stands for UDP-glycosyltransferase. Adapted from Hansen et al. [5]. [Brochado et al. Microbial Cell Factories 2010 9:84 doi:10.1186/1475-2859-9-84](https://microbialcellfactories.biomedcentral.com/articles/10.1186/1475-2859-9-84)_\n",
    "\n",
    "Contoh ini diadaptasi dari tutorial cameo: https://pythonhosted.org/cameo/09-vanillin-production.html"
   ]
  },
  {
   "cell_type": "code",
   "execution_count": 15,
   "id": "formed-occupation",
   "metadata": {},
   "outputs": [
    {
     "data": {
      "text/plain": [
       "{'EX_fe2_e': 999999.0,\n",
       " 'EX_glc__D_e': 13,\n",
       " 'EX_h2o_e': 999999.0,\n",
       " 'EX_h_e': 999999.0,\n",
       " 'EX_k_e': 999999.0,\n",
       " 'EX_na1_e': 999999.0,\n",
       " 'EX_so4_e': 999999.0,\n",
       " 'EX_nh4_e': 999999.0,\n",
       " 'EX_o2_e': 3,\n",
       " 'EX_pi_e': 999999.0}"
      ]
     },
     "execution_count": 15,
     "metadata": {},
     "output_type": "execute_result"
    }
   ],
   "source": [
    "# Load model\n",
    "model2 = models.bigg.iMM904\n",
    "model2.reactions.EX_glc__D_e.lower_bound = -13 #glucose exchange\n",
    "model2.reactions.EX_o2_e.lower_bound = -3  #oxygen exchange\n",
    "model2.medium"
   ]
  },
  {
   "cell_type": "code",
   "execution_count": 16,
   "id": "temporal-affiliation",
   "metadata": {},
   "outputs": [
    {
     "data": {
      "text/latex": [
       "$\\displaystyle 1.0 BIOMASS_{SC5 notrace} - 1.0 BIOMASS_{SC5 notrace reverse 93090}$"
      ],
      "text/plain": [
       "1.0*BIOMASS_SC5_notrace - 1.0*BIOMASS_SC5_notrace_reverse_93090"
      ]
     },
     "execution_count": 16,
     "metadata": {},
     "output_type": "execute_result"
    }
   ],
   "source": [
    "model2.objective.expression"
   ]
  },
  {
   "cell_type": "code",
   "execution_count": 17,
   "id": "sixth-nudist",
   "metadata": {},
   "outputs": [
    {
     "data": {
      "text/html": [
       "<strong><em>Optimal</em> solution with objective value 0.390</strong><br><div>\n",
       "<style scoped>\n",
       "    .dataframe tbody tr th:only-of-type {\n",
       "        vertical-align: middle;\n",
       "    }\n",
       "\n",
       "    .dataframe tbody tr th {\n",
       "        vertical-align: top;\n",
       "    }\n",
       "\n",
       "    .dataframe thead th {\n",
       "        text-align: right;\n",
       "    }\n",
       "</style>\n",
       "<table border=\"1\" class=\"dataframe\">\n",
       "  <thead>\n",
       "    <tr style=\"text-align: right;\">\n",
       "      <th></th>\n",
       "      <th>fluxes</th>\n",
       "      <th>reduced_costs</th>\n",
       "    </tr>\n",
       "  </thead>\n",
       "  <tbody>\n",
       "    <tr>\n",
       "      <th>CITtcp</th>\n",
       "      <td>0.000000</td>\n",
       "      <td>-0.000000e+00</td>\n",
       "    </tr>\n",
       "    <tr>\n",
       "      <th>13BGH</th>\n",
       "      <td>0.000000</td>\n",
       "      <td>-4.751566e-02</td>\n",
       "    </tr>\n",
       "    <tr>\n",
       "      <th>13BGHe</th>\n",
       "      <td>0.000000</td>\n",
       "      <td>3.469447e-18</td>\n",
       "    </tr>\n",
       "    <tr>\n",
       "      <th>13GS</th>\n",
       "      <td>0.442824</td>\n",
       "      <td>0.000000e+00</td>\n",
       "    </tr>\n",
       "    <tr>\n",
       "      <th>16GS</th>\n",
       "      <td>0.000000</td>\n",
       "      <td>-9.503132e-02</td>\n",
       "    </tr>\n",
       "    <tr>\n",
       "      <th>...</th>\n",
       "      <td>...</td>\n",
       "      <td>...</td>\n",
       "    </tr>\n",
       "    <tr>\n",
       "      <th>PYDXO</th>\n",
       "      <td>0.000000</td>\n",
       "      <td>0.000000e+00</td>\n",
       "    </tr>\n",
       "    <tr>\n",
       "      <th>PYK</th>\n",
       "      <td>22.931253</td>\n",
       "      <td>0.000000e+00</td>\n",
       "    </tr>\n",
       "    <tr>\n",
       "      <th>PYNP2r</th>\n",
       "      <td>0.000000</td>\n",
       "      <td>6.938894e-18</td>\n",
       "    </tr>\n",
       "    <tr>\n",
       "      <th>PYR5CDm</th>\n",
       "      <td>0.000000</td>\n",
       "      <td>-2.969729e-02</td>\n",
       "    </tr>\n",
       "    <tr>\n",
       "      <th>PYRDC</th>\n",
       "      <td>20.408298</td>\n",
       "      <td>0.000000e+00</td>\n",
       "    </tr>\n",
       "  </tbody>\n",
       "</table>\n",
       "<p>1577 rows × 2 columns</p>\n",
       "</div>"
      ],
      "text/plain": [
       "<Solution 0.390 at 0x7fd3a4e69940>"
      ]
     },
     "execution_count": 17,
     "metadata": {},
     "output_type": "execute_result"
    }
   ],
   "source": [
    "model2.optimize()"
   ]
  },
  {
   "cell_type": "code",
   "execution_count": 18,
   "id": "nominated-reproduction",
   "metadata": {},
   "outputs": [],
   "source": [
    "### Menambahkan reaksi"
   ]
  },
  {
   "cell_type": "code",
   "execution_count": 19,
   "id": "christian-myrtle",
   "metadata": {},
   "outputs": [],
   "source": [
    "# menambahkan metabolit secara manual\n",
    "vnl_b_glu_c = Metabolite(\n",
    "    'vnl_b_glu_c',\n",
    "    formula='C14H18O8',\n",
    "    name='vanillin-B-glucoside',\n",
    "    compartment='c')"
   ]
  },
  {
   "cell_type": "code",
   "execution_count": 20,
   "id": "subtle-franchise",
   "metadata": {},
   "outputs": [],
   "source": [
    "# menambahkan reaksi secara manual\n",
    "# define reaction - export vanilin glucoside keluar sel\n",
    "reaction = Reaction('EX_vnl_b_glu_c')\n",
    "reaction.name = 'vnl_b_glu_c transport'\n",
    "reaction.subsystem = 'Transport, Extracellular' #TRANSPORT\n",
    "reaction.lower_bound = 0.  # This is the default\n",
    "reaction.upper_bound = 1000.  # This is the default\n",
    "\n",
    "reaction.add_metabolites({\n",
    "    vnl_b_glu_c: -1.0\n",
    "})\n",
    "\n",
    "reaction.gene_reaction_rule = '( vnl_b_glu_transporter )'\n",
    "reaction.genes\n",
    "\n",
    "model2.add_reactions([reaction])"
   ]
  },
  {
   "cell_type": "code",
   "execution_count": 21,
   "id": "obvious-coffee",
   "metadata": {},
   "outputs": [
    {
     "data": {
      "text/html": [
       "<div>\n",
       "<style scoped>\n",
       "    .dataframe tbody tr th:only-of-type {\n",
       "        vertical-align: middle;\n",
       "    }\n",
       "\n",
       "    .dataframe tbody tr th {\n",
       "        vertical-align: top;\n",
       "    }\n",
       "\n",
       "    .dataframe thead th {\n",
       "        text-align: right;\n",
       "    }\n",
       "</style>\n",
       "<table border=\"1\" class=\"dataframe\">\n",
       "  <thead>\n",
       "    <tr style=\"text-align: right;\">\n",
       "      <th></th>\n",
       "      <th>equation</th>\n",
       "      <th>lower_bound</th>\n",
       "      <th>upper_bound</th>\n",
       "    </tr>\n",
       "  </thead>\n",
       "  <tbody>\n",
       "    <tr>\n",
       "      <th>3DSD</th>\n",
       "      <td>3-dehydroshikimate --&gt; H2O + protocathechuic acid</td>\n",
       "      <td>0.0</td>\n",
       "      <td>1000.0</td>\n",
       "    </tr>\n",
       "    <tr>\n",
       "      <th>ACAR_PPTase</th>\n",
       "      <td>ATP + NADPH + protocathechuic acid --&gt; ADP + N...</td>\n",
       "      <td>0.0</td>\n",
       "      <td>1000.0</td>\n",
       "    </tr>\n",
       "    <tr>\n",
       "      <th>hsOMT</th>\n",
       "      <td>S-adenosyl-L-methionine + protocatechuic aldeh...</td>\n",
       "      <td>0.0</td>\n",
       "      <td>1000.0</td>\n",
       "    </tr>\n",
       "    <tr>\n",
       "      <th>UGT</th>\n",
       "      <td>UDP-glucose + Vanillin --&gt; vanillin-B-glucoside</td>\n",
       "      <td>0.0</td>\n",
       "      <td>1000.0</td>\n",
       "    </tr>\n",
       "  </tbody>\n",
       "</table>\n",
       "</div>"
      ],
      "text/plain": [
       "                                                      equation  lower_bound  \\\n",
       "3DSD         3-dehydroshikimate --> H2O + protocathechuic acid          0.0   \n",
       "ACAR_PPTase  ATP + NADPH + protocathechuic acid --> ADP + N...          0.0   \n",
       "hsOMT        S-adenosyl-L-methionine + protocatechuic aldeh...          0.0   \n",
       "UGT            UDP-glucose + Vanillin --> vanillin-B-glucoside          0.0   \n",
       "\n",
       "             upper_bound  \n",
       "3DSD              1000.0  \n",
       "ACAR_PPTase       1000.0  \n",
       "hsOMT             1000.0  \n",
       "UGT               1000.0  "
      ]
     },
     "execution_count": 21,
     "metadata": {},
     "output_type": "execute_result"
    }
   ],
   "source": [
    "# menambahkan reaksi secara semi otomatis dengan cameo\n",
    "from cameo.core.pathway import Pathway\n",
    "vanillin_pathway = Pathway.from_file(\"data/vanillin_pathway.tsv\")\n",
    "vanillin_pathway.data_frame"
   ]
  },
  {
   "cell_type": "code",
   "execution_count": 22,
   "id": "shaped-buffer",
   "metadata": {},
   "outputs": [],
   "source": [
    "vanillin_pathway.plug_model(model2)"
   ]
  },
  {
   "cell_type": "code",
   "execution_count": 23,
   "id": "intermediate-brain",
   "metadata": {},
   "outputs": [
    {
     "data": {
      "text/html": [
       "<div>\n",
       "<style scoped>\n",
       "    .dataframe tbody tr th:only-of-type {\n",
       "        vertical-align: middle;\n",
       "    }\n",
       "\n",
       "    .dataframe tbody tr th {\n",
       "        vertical-align: top;\n",
       "    }\n",
       "\n",
       "    .dataframe thead th {\n",
       "        text-align: right;\n",
       "    }\n",
       "</style>\n",
       "<table border=\"1\" class=\"dataframe\">\n",
       "  <thead>\n",
       "    <tr style=\"text-align: right;\">\n",
       "      <th></th>\n",
       "      <th>BIOMASS_SC5_notrace</th>\n",
       "      <th>objective_lower_bound</th>\n",
       "      <th>objective_upper_bound</th>\n",
       "      <th>c_yield_lower_bound</th>\n",
       "      <th>c_yield_upper_bound</th>\n",
       "      <th>mass_yield_lower_bound</th>\n",
       "      <th>mass_yield_upper_bound</th>\n",
       "    </tr>\n",
       "  </thead>\n",
       "  <tbody>\n",
       "    <tr>\n",
       "      <th>0</th>\n",
       "      <td>0.000000</td>\n",
       "      <td>0.000000e+00</td>\n",
       "      <td>1.422581e+00</td>\n",
       "      <td>0.0</td>\n",
       "      <td>2.553350e-01</td>\n",
       "      <td>0.000000e+00</td>\n",
       "      <td>1.909030e-01</td>\n",
       "    </tr>\n",
       "    <tr>\n",
       "      <th>1</th>\n",
       "      <td>0.020538</td>\n",
       "      <td>0.000000e+00</td>\n",
       "      <td>1.350755e+00</td>\n",
       "      <td>0.0</td>\n",
       "      <td>2.424432e-01</td>\n",
       "      <td>0.000000e+00</td>\n",
       "      <td>1.812644e-01</td>\n",
       "    </tr>\n",
       "    <tr>\n",
       "      <th>2</th>\n",
       "      <td>0.041076</td>\n",
       "      <td>0.000000e+00</td>\n",
       "      <td>1.278930e+00</td>\n",
       "      <td>0.0</td>\n",
       "      <td>2.295515e-01</td>\n",
       "      <td>0.000000e+00</td>\n",
       "      <td>1.716258e-01</td>\n",
       "    </tr>\n",
       "    <tr>\n",
       "      <th>3</th>\n",
       "      <td>0.061614</td>\n",
       "      <td>-1.968159e-16</td>\n",
       "      <td>1.206938e+00</td>\n",
       "      <td>0.0</td>\n",
       "      <td>2.166298e-01</td>\n",
       "      <td>-2.641169e-17</td>\n",
       "      <td>1.619648e-01</td>\n",
       "    </tr>\n",
       "    <tr>\n",
       "      <th>4</th>\n",
       "      <td>0.082152</td>\n",
       "      <td>0.000000e+00</td>\n",
       "      <td>1.131963e+00</td>\n",
       "      <td>0.0</td>\n",
       "      <td>2.031729e-01</td>\n",
       "      <td>0.000000e+00</td>\n",
       "      <td>1.519037e-01</td>\n",
       "    </tr>\n",
       "    <tr>\n",
       "      <th>5</th>\n",
       "      <td>0.102690</td>\n",
       "      <td>0.000000e+00</td>\n",
       "      <td>1.056705e+00</td>\n",
       "      <td>0.0</td>\n",
       "      <td>1.896650e-01</td>\n",
       "      <td>0.000000e+00</td>\n",
       "      <td>1.418043e-01</td>\n",
       "    </tr>\n",
       "    <tr>\n",
       "      <th>6</th>\n",
       "      <td>0.123228</td>\n",
       "      <td>-2.164068e-16</td>\n",
       "      <td>9.812746e-01</td>\n",
       "      <td>0.0</td>\n",
       "      <td>1.761262e-01</td>\n",
       "      <td>-2.904067e-17</td>\n",
       "      <td>1.316820e-01</td>\n",
       "    </tr>\n",
       "    <tr>\n",
       "      <th>7</th>\n",
       "      <td>0.143766</td>\n",
       "      <td>0.000000e+00</td>\n",
       "      <td>9.058244e-01</td>\n",
       "      <td>0.0</td>\n",
       "      <td>1.625839e-01</td>\n",
       "      <td>0.000000e+00</td>\n",
       "      <td>1.215570e-01</td>\n",
       "    </tr>\n",
       "    <tr>\n",
       "      <th>8</th>\n",
       "      <td>0.164304</td>\n",
       "      <td>0.000000e+00</td>\n",
       "      <td>8.303742e-01</td>\n",
       "      <td>0.0</td>\n",
       "      <td>1.490415e-01</td>\n",
       "      <td>0.000000e+00</td>\n",
       "      <td>1.114319e-01</td>\n",
       "    </tr>\n",
       "    <tr>\n",
       "      <th>9</th>\n",
       "      <td>0.184842</td>\n",
       "      <td>0.000000e+00</td>\n",
       "      <td>7.549239e-01</td>\n",
       "      <td>0.0</td>\n",
       "      <td>1.354992e-01</td>\n",
       "      <td>0.000000e+00</td>\n",
       "      <td>1.013069e-01</td>\n",
       "    </tr>\n",
       "    <tr>\n",
       "      <th>10</th>\n",
       "      <td>0.205380</td>\n",
       "      <td>-1.915688e-15</td>\n",
       "      <td>6.794737e-01</td>\n",
       "      <td>0.0</td>\n",
       "      <td>1.219568e-01</td>\n",
       "      <td>-2.570755e-16</td>\n",
       "      <td>9.118188e-02</td>\n",
       "    </tr>\n",
       "    <tr>\n",
       "      <th>11</th>\n",
       "      <td>0.225918</td>\n",
       "      <td>0.000000e+00</td>\n",
       "      <td>6.040235e-01</td>\n",
       "      <td>0.0</td>\n",
       "      <td>1.084145e-01</td>\n",
       "      <td>0.000000e+00</td>\n",
       "      <td>8.105685e-02</td>\n",
       "    </tr>\n",
       "    <tr>\n",
       "      <th>12</th>\n",
       "      <td>0.246456</td>\n",
       "      <td>-3.017286e-15</td>\n",
       "      <td>5.285732e-01</td>\n",
       "      <td>0.0</td>\n",
       "      <td>9.487212e-02</td>\n",
       "      <td>-4.049042e-16</td>\n",
       "      <td>7.093181e-02</td>\n",
       "    </tr>\n",
       "    <tr>\n",
       "      <th>13</th>\n",
       "      <td>0.266994</td>\n",
       "      <td>0.000000e+00</td>\n",
       "      <td>4.531230e-01</td>\n",
       "      <td>0.0</td>\n",
       "      <td>8.132977e-02</td>\n",
       "      <td>0.000000e+00</td>\n",
       "      <td>6.080678e-02</td>\n",
       "    </tr>\n",
       "    <tr>\n",
       "      <th>14</th>\n",
       "      <td>0.287532</td>\n",
       "      <td>0.000000e+00</td>\n",
       "      <td>3.776728e-01</td>\n",
       "      <td>0.0</td>\n",
       "      <td>6.778742e-02</td>\n",
       "      <td>0.000000e+00</td>\n",
       "      <td>5.068175e-02</td>\n",
       "    </tr>\n",
       "    <tr>\n",
       "      <th>15</th>\n",
       "      <td>0.308070</td>\n",
       "      <td>0.000000e+00</td>\n",
       "      <td>3.022225e-01</td>\n",
       "      <td>0.0</td>\n",
       "      <td>5.424507e-02</td>\n",
       "      <td>0.000000e+00</td>\n",
       "      <td>4.055671e-02</td>\n",
       "    </tr>\n",
       "    <tr>\n",
       "      <th>16</th>\n",
       "      <td>0.328608</td>\n",
       "      <td>0.000000e+00</td>\n",
       "      <td>2.267723e-01</td>\n",
       "      <td>0.0</td>\n",
       "      <td>4.070272e-02</td>\n",
       "      <td>0.000000e+00</td>\n",
       "      <td>3.043168e-02</td>\n",
       "    </tr>\n",
       "    <tr>\n",
       "      <th>17</th>\n",
       "      <td>0.349146</td>\n",
       "      <td>0.000000e+00</td>\n",
       "      <td>1.513221e-01</td>\n",
       "      <td>0.0</td>\n",
       "      <td>2.716038e-02</td>\n",
       "      <td>0.000000e+00</td>\n",
       "      <td>2.030665e-02</td>\n",
       "    </tr>\n",
       "    <tr>\n",
       "      <th>18</th>\n",
       "      <td>0.369684</td>\n",
       "      <td>0.000000e+00</td>\n",
       "      <td>7.587186e-02</td>\n",
       "      <td>0.0</td>\n",
       "      <td>1.361803e-02</td>\n",
       "      <td>0.000000e+00</td>\n",
       "      <td>1.018161e-02</td>\n",
       "    </tr>\n",
       "    <tr>\n",
       "      <th>19</th>\n",
       "      <td>0.390222</td>\n",
       "      <td>-8.196568e-17</td>\n",
       "      <td>2.008810e-15</td>\n",
       "      <td>0.0</td>\n",
       "      <td>3.605556e-16</td>\n",
       "      <td>-1.099937e-17</td>\n",
       "      <td>2.695720e-16</td>\n",
       "    </tr>\n",
       "  </tbody>\n",
       "</table>\n",
       "</div>"
      ],
      "text/plain": [
       "    BIOMASS_SC5_notrace  objective_lower_bound  objective_upper_bound  \\\n",
       "0              0.000000           0.000000e+00           1.422581e+00   \n",
       "1              0.020538           0.000000e+00           1.350755e+00   \n",
       "2              0.041076           0.000000e+00           1.278930e+00   \n",
       "3              0.061614          -1.968159e-16           1.206938e+00   \n",
       "4              0.082152           0.000000e+00           1.131963e+00   \n",
       "5              0.102690           0.000000e+00           1.056705e+00   \n",
       "6              0.123228          -2.164068e-16           9.812746e-01   \n",
       "7              0.143766           0.000000e+00           9.058244e-01   \n",
       "8              0.164304           0.000000e+00           8.303742e-01   \n",
       "9              0.184842           0.000000e+00           7.549239e-01   \n",
       "10             0.205380          -1.915688e-15           6.794737e-01   \n",
       "11             0.225918           0.000000e+00           6.040235e-01   \n",
       "12             0.246456          -3.017286e-15           5.285732e-01   \n",
       "13             0.266994           0.000000e+00           4.531230e-01   \n",
       "14             0.287532           0.000000e+00           3.776728e-01   \n",
       "15             0.308070           0.000000e+00           3.022225e-01   \n",
       "16             0.328608           0.000000e+00           2.267723e-01   \n",
       "17             0.349146           0.000000e+00           1.513221e-01   \n",
       "18             0.369684           0.000000e+00           7.587186e-02   \n",
       "19             0.390222          -8.196568e-17           2.008810e-15   \n",
       "\n",
       "    c_yield_lower_bound  c_yield_upper_bound  mass_yield_lower_bound  \\\n",
       "0                   0.0         2.553350e-01            0.000000e+00   \n",
       "1                   0.0         2.424432e-01            0.000000e+00   \n",
       "2                   0.0         2.295515e-01            0.000000e+00   \n",
       "3                   0.0         2.166298e-01           -2.641169e-17   \n",
       "4                   0.0         2.031729e-01            0.000000e+00   \n",
       "5                   0.0         1.896650e-01            0.000000e+00   \n",
       "6                   0.0         1.761262e-01           -2.904067e-17   \n",
       "7                   0.0         1.625839e-01            0.000000e+00   \n",
       "8                   0.0         1.490415e-01            0.000000e+00   \n",
       "9                   0.0         1.354992e-01            0.000000e+00   \n",
       "10                  0.0         1.219568e-01           -2.570755e-16   \n",
       "11                  0.0         1.084145e-01            0.000000e+00   \n",
       "12                  0.0         9.487212e-02           -4.049042e-16   \n",
       "13                  0.0         8.132977e-02            0.000000e+00   \n",
       "14                  0.0         6.778742e-02            0.000000e+00   \n",
       "15                  0.0         5.424507e-02            0.000000e+00   \n",
       "16                  0.0         4.070272e-02            0.000000e+00   \n",
       "17                  0.0         2.716038e-02            0.000000e+00   \n",
       "18                  0.0         1.361803e-02            0.000000e+00   \n",
       "19                  0.0         3.605556e-16           -1.099937e-17   \n",
       "\n",
       "    mass_yield_upper_bound  \n",
       "0             1.909030e-01  \n",
       "1             1.812644e-01  \n",
       "2             1.716258e-01  \n",
       "3             1.619648e-01  \n",
       "4             1.519037e-01  \n",
       "5             1.418043e-01  \n",
       "6             1.316820e-01  \n",
       "7             1.215570e-01  \n",
       "8             1.114319e-01  \n",
       "9             1.013069e-01  \n",
       "10            9.118188e-02  \n",
       "11            8.105685e-02  \n",
       "12            7.093181e-02  \n",
       "13            6.080678e-02  \n",
       "14            5.068175e-02  \n",
       "15            4.055671e-02  \n",
       "16            3.043168e-02  \n",
       "17            2.030665e-02  \n",
       "18            1.018161e-02  \n",
       "19            2.695720e-16  "
      ]
     },
     "execution_count": 23,
     "metadata": {},
     "output_type": "execute_result"
    }
   ],
   "source": [
    "from cameo import phenotypic_phase_plane\n",
    "production_envelope = phenotypic_phase_plane(model2, variables=[model2.reactions.BIOMASS_SC5_notrace],\n",
    "                                             objective=model2.reactions.EX_vnl_b_glu_c)\n",
    "data = production_envelope.data_frame\n",
    "data"
   ]
  },
  {
   "cell_type": "code",
   "execution_count": 24,
   "id": "clinical-princess",
   "metadata": {},
   "outputs": [
    {
     "data": {
      "text/plain": [
       "<AxesSubplot:xlabel='BIOMASS_SC5_notrace'>"
      ]
     },
     "execution_count": 24,
     "metadata": {},
     "output_type": "execute_result"
    },
    {
     "data": {
      "image/png": "[encoded data removed]",
      "text/plain": [
       "<Figure size 432x288 with 1 Axes>"
      ]
     },
     "metadata": {
      "needs_background": "light"
     },
     "output_type": "display_data"
    }
   ],
   "source": [
    "data.plot(x='BIOMASS_SC5_notrace', y='objective_upper_bound', marker='.')"
   ]
  }
 ],
 "metadata": {
  "kernelspec": {
   "display_name": "Python 3",
   "language": "python",
   "name": "python3"
  },
  "language_info": {
   "codemirror_mode": {
    "name": "ipython",
    "version": 3
   },
   "file_extension": ".py",
   "mimetype": "text/x-python",
   "name": "python",
   "nbconvert_exporter": "python",
   "pygments_lexer": "ipython3",
   "version": "3.9.2"
  }
 },
 "nbformat": 4,
 "nbformat_minor": 5
}
