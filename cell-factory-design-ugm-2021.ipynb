{
 "cells": [
  {
   "cell_type": "markdown",
   "id": "scheduled-blast",
   "metadata": {},
   "source": [
    "# Pengantar _Computer Aided Cell Factory Design_\n",
    "Oleh: **Matin Nuhamunada, M.Sc.** \\\n",
    "_Laboratorium Bioteknologi, Fakultas Biologi, Universitas Gadjah Mada_ \\\n",
    "_matin_nuhamunada@ugm.ac.id_\n",
    "\n",
    "## Daftar Isi\n",
    "* [Pengantar](#section1)\n",
    "* [Setting Up Environment](#section2)\n",
    "* [Database genome-scale metabolic model](#section3)\n",
    "* [Eksplorasi dan Simulasi Model](#section4)\n",
    "* [Manipulasi model & Aplikasi](#section5)\n",
    "    * [Membuat knock-out](#section5-1)\n",
    "    * [Mengubah medium](#section5-2)\n",
    "    * [Mengubah objektif](#section5-3)\n",
    "    * [Aplikasi: ekspresi heterologous vanilin](#section5-4)\n",
    "* [What's next? COBRA Plugins & DD Decaf](#section6)\n",
    "<a name=\"section1\"></a>\n",
    "\n",
    "## Pengantar\n",
    "Materi ini ditulis dalam rangka mendampingi workshop Brainstorming BIOS yang diselenggarakan oleh BEM Fakultas Biologi UGM. Workshop ini bertujuan untuk mengenalkan bagaimana CAD (_Computer Aided Design_) diaplikasikan dalam bioteknologi / metabolic engineering. Materi pada workshop ini diringkas dari workshop Metabolic Modeling for Cell Factory Design dari DTU Biosustain, dan selengkapnya dapat diakses di https://biosustain.github.io/cell-factory-design-course/.\n",
    "\n",
    "[**Slide pengantar workshop dapat diakses di sini.**](cell-factory-design-ugm-2021.pdf)\n",
    "\n",
    "Karena materi pada workshop ini lebih ke arah praktis, ada baiknya peserta juga mempelajari materi / kuliah [**Transformasi Digital**](https://elok.ugm.ac.id/course/view.php?id=632) (skill dasar Python), [**Bioinformatika**](https://elok.ugm.ac.id/course/view.php?id=1136), dan **Bioteknologi** (Pengantar Systems & Synthetic Biology). Materi kuliah pengantar systems & synthetic biology (archive Kuliah Bioteknologi semester genap 2020) dapat diakses di: http://ugm.id/lectsystembio2020 & http://ugm.id/lectsyntheticbio2020\n",
    "<a name=\"section2\"></a>\n",
    "\n",
    "## Setting Up Environment\n",
    "* Saya merekomendasikan untuk menggunakan OS Ubuntu/Linux (ex: menggunakan [WSL2](https://docs.microsoft.com/en-us/windows/wsl/install-win10))\n",
    "* Ikuti petunjuk instalasi Conda di: https://docs.conda.io/projects/conda/en/latest/user-guide/install/index.html#\n",
    "* Buat environment sesuai petunjuk di https://biosustain.github.io/cell-factory-design-course/setup/\n",
    "\n",
    "### Jika ada problem dengan instalasi environment\n",
    "Jika ada problem dengan instalasi library, coba install dengan cara berikut:\n",
    "> *conda install -c conda-forge jupyterlab* \\\n",
    "> *pip install cameo* \\\n",
    "> *pip install escher* \\\n",
    "> *conda install -c conda-forge nodejs* \\\n",
    "> *jupyter labextension install @jupyter-widgets/jupyterlab-manager* \\\n",
    "> *jupyter labextension install escher*\n",
    "\n",
    "<a name=\"section3\"></a>\n",
    "\n",
    "## Database Genome Scale Metabolic Model\n",
    "* Buka database: http://bigg.ucsd.edu/\n",
    "* Cari model: **e_coli_core**\n",
    "* Ada berapa banyak metabolit, reaksi, dan gen pada model tersebut?\n",
    "* Genom apa yang digunakan sebagai dasar dari model tersebut?\n",
    "* Reaksi & stoikiometri?\n",
    "* Escher Map?\n",
    "* Bandingkan [**e_coli_core**](http://bigg.ucsd.edu/models/e_coli_core) dengan [**iML1515**](http://bigg.ucsd.edu/models/iML1515). Apa perbedaan dari kedua model tersebut? Jumlah Metabolit, Reaksi, Gen? Referensi genom? Escher Map? \n",
    "<a name=\"section4\"></a>\n",
    "\n",
    "## Eksplorasi dan Simulasi Model"
   ]
  },
  {
   "cell_type": "code",
   "execution_count": 1,
   "id": "artistic-brown",
   "metadata": {},
   "outputs": [],
   "source": [
    "# load library\n",
    "from cameo import models\n",
    "from cameo import load_model\n",
    "from cameo import fba\n",
    "from escher import Builder"
   ]
  },
  {
   "cell_type": "code",
   "execution_count": 2,
   "id": "increasing-hobby",
   "metadata": {},
   "outputs": [
    {
     "data": {
      "text/html": [
       "\n",
       "        <table>\n",
       "            <tr>\n",
       "                <td><strong>Name</strong></td>\n",
       "                <td>e_coli_core</td>\n",
       "            </tr><tr>\n",
       "                <td><strong>Memory address</strong></td>\n",
       "                <td>0x07fba2371f370</td>\n",
       "            </tr><tr>\n",
       "                <td><strong>Number of metabolites</strong></td>\n",
       "                <td>72</td>\n",
       "            </tr><tr>\n",
       "                <td><strong>Number of reactions</strong></td>\n",
       "                <td>95</td>\n",
       "            </tr><tr>\n",
       "                <td><strong>Number of groups</strong></td>\n",
       "                <td>0</td>\n",
       "            </tr><tr>\n",
       "                <td><strong>Objective expression</strong></td>\n",
       "                <td>1.0*BIOMASS_Ecoli_core_w_GAM - 1.0*BIOMASS_Ecoli_core_w_GAM_reverse_712e5</td>\n",
       "            </tr><tr>\n",
       "                <td><strong>Compartments</strong></td>\n",
       "                <td>extracellular space, cytosol</td>\n",
       "            </tr>\n",
       "          </table>"
      ],
      "text/plain": [
       "<Model e_coli_core at 0x7fba2371f370>"
      ]
     },
     "execution_count": 2,
     "metadata": {},
     "output_type": "execute_result"
    }
   ],
   "source": [
    "# load model e_coli_core\n",
    "# model ini sudah tersedia di library\n",
    "model = load_model('e_coli_core')\n",
    "\n",
    "# ada berapa banyak metabolit & reaksi? Objektif? \n",
    "model\n",
    "\n",
    "# bagaimana mengakses model yang ada di BIGG?\n",
    "#models.index_models_bigg()\n",
    "#models.bigg.iML1515\n",
    "\n",
    "# anda juga bisa mengunduh model (format SBML) kemudian load model dengan menggunakan cameo"
   ]
  },
  {
   "cell_type": "code",
   "execution_count": 3,
   "id": "competitive-magic",
   "metadata": {},
   "outputs": [
    {
     "data": {
      "text/plain": [
       "137"
      ]
     },
     "execution_count": 3,
     "metadata": {},
     "output_type": "execute_result"
    }
   ],
   "source": [
    "# bagaimana mengakses komponen dalam model?\n",
    "#model.genes\n",
    "\n",
    "# ada berapa banyak gen? \n",
    "len(model.genes)"
   ]
  },
  {
   "cell_type": "code",
   "execution_count": 4,
   "id": "incident-final",
   "metadata": {},
   "outputs": [
    {
     "name": "stdout",
     "output_type": "stream",
     "text": [
      "Downloading Map from https://escher.github.io/1-0-0/6/maps/Escherichia%20coli/e_coli_core.Core%20metabolism.json\n"
     ]
    },
    {
     "data": {
      "application/vnd.jupyter.widget-view+json": {
       "model_id": "f5c28d70b6314748be49a022855835a4",
       "version_major": 2,
       "version_minor": 0
      },
      "text/plain": [
       "Builder()"
      ]
     },
     "metadata": {},
     "output_type": "display_data"
    }
   ],
   "source": [
    "# load escher map - map kosong tanpa data\n",
    "builder = Builder(\n",
    "    map_name='e_coli_core.Core metabolism'\n",
    ")\n",
    "builder"
   ]
  },
  {
   "cell_type": "markdown",
   "id": "backed-thesaurus",
   "metadata": {},
   "source": [
    "<img src=\"maps/01.svg\">"
   ]
  },
  {
   "cell_type": "code",
   "execution_count": 5,
   "id": "otherwise-specific",
   "metadata": {},
   "outputs": [
    {
     "data": {
      "text/html": [
       "\n",
       "        <table>\n",
       "            <tr>\n",
       "                <td><strong>Metabolite identifier</strong></td><td>g3p_c</td>\n",
       "            </tr><tr>\n",
       "                <td><strong>Name</strong></td><td>Glyceraldehyde 3-phosphate</td>\n",
       "            </tr><tr>\n",
       "                <td><strong>Memory address</strong></td>\n",
       "                <td>0x07fba1cd08790</td>\n",
       "            </tr><tr>\n",
       "                <td><strong>Formula</strong></td><td>C3H5O6P</td>\n",
       "            </tr><tr>\n",
       "                <td><strong>Compartment</strong></td><td>c</td>\n",
       "            </tr><tr>\n",
       "                <td><strong>In 7 reaction(s)</strong></td><td>\n",
       "                    TKT1, GAPD, FBA, TPI, TALA, TKT2, BIOMASS_Ecoli_core_w_GAM</td>\n",
       "            </tr>\n",
       "        </table>"
      ],
      "text/plain": [
       "<Metabolite g3p_c at 0x7fba1cd08790>"
      ]
     },
     "execution_count": 5,
     "metadata": {},
     "output_type": "execute_result"
    }
   ],
   "source": [
    "# mari kita mencari tahu informasi terkait g3p_c, c disini menunjukkan lokasi metabolit \n",
    "model.metabolites.get_by_id('g3p_c')\n",
    "\n",
    "# ada berapa reaksi yang menggunakan g3p_c?"
   ]
  },
  {
   "cell_type": "code",
   "execution_count": 6,
   "id": "ahead-ranch",
   "metadata": {},
   "outputs": [
    {
     "data": {
      "text/html": [
       "\n",
       "        <table>\n",
       "            <tr>\n",
       "                <td><strong>Reaction identifier</strong></td><td>FBA</td>\n",
       "            </tr><tr>\n",
       "                <td><strong>Name</strong></td><td>Fructose-bisphosphate aldolase</td>\n",
       "            </tr><tr>\n",
       "                <td><strong>Memory address</strong></td>\n",
       "                <td>0x07fba1cc2b640</td>\n",
       "            </tr><tr>\n",
       "                <td><strong>Stoichiometry</strong></td>\n",
       "                <td>\n",
       "                    <p style='text-align:right'>fdp_c <=> dhap_c + g3p_c</p>\n",
       "                    <p style='text-align:right'>D-Fructose 1,6-bisphosphate <=> Dihydroxyacetone phosphate + Glyceraldehyde 3-phosphate</p>\n",
       "                </td>\n",
       "            </tr><tr>\n",
       "                <td><strong>GPR</strong></td><td>b2097 or b1773 or b2925</td>\n",
       "            </tr><tr>\n",
       "                <td><strong>Lower bound</strong></td><td>-1000.0</td>\n",
       "            </tr><tr>\n",
       "                <td><strong>Upper bound</strong></td><td>1000.0</td>\n",
       "            </tr>\n",
       "        </table>\n",
       "        "
      ],
      "text/plain": [
       "<Reaction FBA at 0x7fba1cc2b640>"
      ]
     },
     "execution_count": 6,
     "metadata": {},
     "output_type": "execute_result"
    }
   ],
   "source": [
    "# detail reaksi FBA - Fructose-bisphosphate aldolase\n",
    "model.reactions.get_by_id('FBA')"
   ]
  },
  {
   "cell_type": "code",
   "execution_count": 7,
   "id": "equipped-quarter",
   "metadata": {},
   "outputs": [
    {
     "data": {
      "text/plain": [
       "0.8739215069684303"
      ]
     },
     "execution_count": 7,
     "metadata": {},
     "output_type": "execute_result"
    }
   ],
   "source": [
    "# simulasi model\n",
    "s = fba(model)\n",
    "flux = s.fluxes.to_frame()\n",
    "s.objective_value\n",
    "#flux.loc['FBA', 'fluxes']"
   ]
  },
  {
   "cell_type": "code",
   "execution_count": 8,
   "id": "sunrise-trust",
   "metadata": {},
   "outputs": [
    {
     "name": "stdout",
     "output_type": "stream",
     "text": [
      "Downloading Map from https://escher.github.io/1-0-0/6/maps/Escherichia%20coli/e_coli_core.Core%20metabolism.json\n"
     ]
    },
    {
     "data": {
      "application/vnd.jupyter.widget-view+json": {
       "model_id": "ba8bcb6b8dc54313ab412e6b3ce50d02",
       "version_major": 2,
       "version_minor": 0
      },
      "text/plain": [
       "Builder(reaction_data={'PFK': 7.477381962160287, 'PFL': 0.0, 'PGI': 4.860861146496827, 'PGK': -16.023526143167…"
      ]
     },
     "metadata": {},
     "output_type": "display_data"
    }
   ],
   "source": [
    "# map fluxes\n",
    "builder = Builder(\n",
    "    map_name='e_coli_core.Core metabolism',\n",
    "    reaction_data=s.fluxes,\n",
    ")\n",
    "builder"
   ]
  },
  {
   "cell_type": "markdown",
   "id": "incorporated-interval",
   "metadata": {},
   "source": [
    "<img src=\"maps/02.svg\">"
   ]
  },
  {
   "cell_type": "markdown",
   "id": "assured-excuse",
   "metadata": {},
   "source": [
    "<a name=\"section5\"></a>\n",
    "\n",
    "## Manipulasi Model\n",
    "<a name=\"section5-1\"></a>\n",
    "\n",
    "### Membuat knock-out"
   ]
  },
  {
   "cell_type": "code",
   "execution_count": 9,
   "id": "united-offset",
   "metadata": {},
   "outputs": [
    {
     "name": "stdout",
     "output_type": "stream",
     "text": [
      "FBA bounds WT (-1000.0, 1000.0)\n",
      "FBA bounds mutant (0, 0)\n",
      "growth rate WT: 0.8739215069684303\n",
      "growth rate mutant: 0.7040369478590354\n",
      "Downloading Map from https://escher.github.io/1-0-0/6/maps/Escherichia%20coli/e_coli_core.Core%20metabolism.json\n"
     ]
    },
    {
     "data": {
      "application/vnd.jupyter.widget-view+json": {
       "model_id": "33c59ed732ed4aa6ac1a6068fcb959eb",
       "version_major": 2,
       "version_minor": 0
      },
      "text/plain": [
       "Builder(reaction_data={'PFK': -7.647270926404825e-15, 'PFL': 0.0, 'PGI': -18.04341091820498, 'PGK': -8.8287641…"
      ]
     },
     "metadata": {},
     "output_type": "display_data"
    }
   ],
   "source": [
    "# membuat copy dari model\n",
    "mutant = model.copy()\n",
    "\n",
    "# knockout reaksi FBA\n",
    "mutant.reactions.FBA.knock_out()\n",
    "\n",
    "# flux balance analysis pada mutan\n",
    "s_mutant = fba(mutant)\n",
    "\n",
    "# check perubahan flux\n",
    "print('FBA bounds WT', model.reactions.FBA.bounds)\n",
    "print('FBA bounds mutant', mutant.reactions.FBA.bounds)\n",
    "print('growth rate WT:', s.objective_value)\n",
    "print('growth rate mutant:',s_mutant.objective_value)\n",
    "\n",
    "# map flux\n",
    "builder = Builder(\n",
    "    map_name='e_coli_core.Core metabolism',\n",
    "    reaction_data=s_mutant.fluxes,\n",
    ")\n",
    "builder"
   ]
  },
  {
   "cell_type": "markdown",
   "id": "third-sending",
   "metadata": {},
   "source": [
    "<img src=\"maps/03.svg\">"
   ]
  },
  {
   "cell_type": "markdown",
   "id": "conceptual-saudi",
   "metadata": {},
   "source": [
    "<a name=\"section5-2\"></a>\n",
    "\n",
    "### Mengubah medium"
   ]
  },
  {
   "cell_type": "code",
   "execution_count": 10,
   "id": "beginning-omega",
   "metadata": {},
   "outputs": [
    {
     "data": {
      "text/plain": [
       "{'EX_co2_e': 1000.0,\n",
       " 'EX_glc__D_e': 10.0,\n",
       " 'EX_h_e': 1000.0,\n",
       " 'EX_h2o_e': 1000.0,\n",
       " 'EX_nh4_e': 1000.0,\n",
       " 'EX_o2_e': 1000.0,\n",
       " 'EX_pi_e': 1000.0}"
      ]
     },
     "execution_count": 10,
     "metadata": {},
     "output_type": "execute_result"
    }
   ],
   "source": [
    "# melihat medium\n",
    "model.medium"
   ]
  },
  {
   "cell_type": "code",
   "execution_count": 11,
   "id": "confused-leadership",
   "metadata": {},
   "outputs": [
    {
     "name": "stdout",
     "output_type": "stream",
     "text": [
      "Downloading Map from https://escher.github.io/1-0-0/6/maps/Escherichia%20coli/e_coli_core.Core%20metabolism.json\n"
     ]
    },
    {
     "data": {
      "application/vnd.jupyter.widget-view+json": {
       "model_id": "f9ff1fa7b21d425f87bc8f603b640646",
       "version_major": 2,
       "version_minor": 0
      },
      "text/plain": [
       "Builder(reaction_data={'PFK': 9.789458863898286, 'PFL': 17.804674217935286, 'PGI': 9.95660909530426, 'PGK': -1…"
      ]
     },
     "metadata": {},
     "output_type": "display_data"
    }
   ],
   "source": [
    "# mengubah medium menjadi anaerobik dengan menghilangkan O2\n",
    "medium = model.medium\n",
    "medium['EX_o2_e'] = 0.0000\n",
    "model.medium = medium\n",
    "s_anaerobic = fba(model)\n",
    "\n",
    "# map flux\n",
    "builder = Builder(\n",
    "    map_name='e_coli_core.Core metabolism',\n",
    "    reaction_data=s_anaerobic.fluxes,\n",
    ")\n",
    "builder"
   ]
  },
  {
   "cell_type": "markdown",
   "id": "smaller-cache",
   "metadata": {},
   "source": [
    "<img src=\"maps/04.svg\">"
   ]
  },
  {
   "cell_type": "markdown",
   "id": "sharp-science",
   "metadata": {},
   "source": [
    "<a name=\"section5-3\"></a>\n",
    "\n",
    "### Mengubah objective"
   ]
  },
  {
   "cell_type": "code",
   "execution_count": 12,
   "id": "breathing-rates",
   "metadata": {},
   "outputs": [
    {
     "name": "stdout",
     "output_type": "stream",
     "text": [
      "max 1.0*BIOMASS_Ecoli_core_w_GAM - 1.0*BIOMASS_Ecoli_core_w_GAM_reverse_712e5\n"
     ]
    }
   ],
   "source": [
    "# return medium to normal\n",
    "medium['EX_o2_e'] = 1000.0\n",
    "model.medium = medium\n",
    "\n",
    "print(model.objective.direction, model.objective.expression)"
   ]
  },
  {
   "cell_type": "code",
   "execution_count": 13,
   "id": "technological-croatia",
   "metadata": {},
   "outputs": [
    {
     "data": {
      "text/html": [
       "\n",
       "        <table>\n",
       "            <tr>\n",
       "                <td><strong>Reaction identifier</strong></td><td>ATPM</td>\n",
       "            </tr><tr>\n",
       "                <td><strong>Name</strong></td><td>ATP maintenance requirement</td>\n",
       "            </tr><tr>\n",
       "                <td><strong>Memory address</strong></td>\n",
       "                <td>0x07fba1ccc6a00</td>\n",
       "            </tr><tr>\n",
       "                <td><strong>Stoichiometry</strong></td>\n",
       "                <td>\n",
       "                    <p style='text-align:right'>atp_c + h2o_c --> adp_c + h_c + pi_c</p>\n",
       "                    <p style='text-align:right'>ATP C10H12N5O13P3 + H2O H2O --> ADP C10H12N5O10P2 + H+ + Phosphate</p>\n",
       "                </td>\n",
       "            </tr><tr>\n",
       "                <td><strong>GPR</strong></td><td></td>\n",
       "            </tr><tr>\n",
       "                <td><strong>Lower bound</strong></td><td>8.39</td>\n",
       "            </tr><tr>\n",
       "                <td><strong>Upper bound</strong></td><td>1000.0</td>\n",
       "            </tr>\n",
       "        </table>\n",
       "        "
      ],
      "text/plain": [
       "<Reaction ATPM at 0x7fba1ccc6a00>"
      ]
     },
     "execution_count": 13,
     "metadata": {},
     "output_type": "execute_result"
    }
   ],
   "source": [
    "# kita coba ubah objektif untuk memaksimalkan ATP Maintenance\n",
    "model.reactions.ATPM"
   ]
  },
  {
   "cell_type": "code",
   "execution_count": 14,
   "id": "geographic-chain",
   "metadata": {},
   "outputs": [
    {
     "name": "stdout",
     "output_type": "stream",
     "text": [
      "Downloading Map from https://escher.github.io/1-0-0/6/maps/Escherichia%20coli/e_coli_core.Core%20metabolism.json\n"
     ]
    },
    {
     "data": {
      "application/vnd.jupyter.widget-view+json": {
       "model_id": "7cbca0ea84914533a2e878249321d620",
       "version_major": 2,
       "version_minor": 0
      },
      "text/plain": [
       "Builder(reaction_data={'PFK': 10.0, 'PFL': 0.0, 'PGI': 10.0, 'PGK': -20.0, 'PGL': 0.0, 'ACALD': 0.0, 'AKGt2r':…"
      ]
     },
     "metadata": {},
     "output_type": "display_data"
    }
   ],
   "source": [
    "model.objective = model.reactions.ATPM\n",
    "s_atpm = fba(model)\n",
    "\n",
    "# map flux\n",
    "builder = Builder(\n",
    "    map_name='e_coli_core.Core metabolism',\n",
    "    reaction_data=s_atpm.fluxes,\n",
    ")\n",
    "builder"
   ]
  },
  {
   "cell_type": "markdown",
   "id": "continuing-insurance",
   "metadata": {},
   "source": [
    "<img src=\"maps/05.svg\">"
   ]
  }
 ],
 "metadata": {
  "kernelspec": {
   "display_name": "Python 3",
   "language": "python",
   "name": "python3"
  },
  "language_info": {
   "codemirror_mode": {
    "name": "ipython",
    "version": 3
   },
   "file_extension": ".py",
   "mimetype": "text/x-python",
   "name": "python",
   "nbconvert_exporter": "python",
   "pygments_lexer": "ipython3",
   "version": "3.9.2"
  }
 },
 "nbformat": 4,
 "nbformat_minor": 5
}
