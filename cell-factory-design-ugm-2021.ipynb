{
 "cells": [
  {
   "cell_type": "markdown",
   "id": "brave-place",
   "metadata": {},
   "source": [
    "# Pengantar _Computer Aided Cell Factory Design_\n",
    "Oleh: **Matin Nuhamunada, M.Sc.**\n",
    "\n",
    "_Laboratorium Bioteknologi, Fakultas Biologi, Universitas Gadjah Mada_\n",
    "\n",
    "_matin_nuhamunada@ugm.ac.id_\n",
    "\n",
    "## Daftar Isi\n",
    "* [Pengantar](##-Pengantar)\n",
    "* [Setting Up Environment](##-Setting-Up-Environment)\n",
    "* [Database genome-scale metabolic model](##-Mencari-dan-Mengunduh-Genome-Scale-Metabolic-Model)\n",
    "* Eksplorasi dan Simulasi Model\n",
    "* [Manipulasi model](##-Manipulasi-Model)\n",
    "    * Menghapus reaksi\n",
    "    * Menambah reaksi\n",
    "    * Mengubah objective model\n",
    "* Contoh aplikasi\n",
    "* DD Decaf\n",
    "\n",
    "## Pengantar\n",
    "Materi ini ditulis dalam rangka mendampingi workshop Brainstorming BIOS yang diselenggarakan oleh BEM Fakultas Biologi UGM. Workshop ini bertujuan untuk mengenalkan bagaimana CAD (_Computer Aided Design_) diaplikasikan dalam bioteknologi / metabolic engineering. Materi pada workshop ini diringkas dari workshop Metabolic Modeling for Cell Factory Design dari DTU Biosustain, dan selengkapnya dapat diakses di https://biosustain.github.io/cell-factory-design-course/.\n",
    "\n",
    "[**Slide pengantar workshop dapat diakses di sini.**](cell-factory-design-ugm-2021.pdf)\n",
    "\n",
    "Karena materi pada workshop ini lebih ke arah praktis, ada baiknya peserta juga mempelajari materi / kuliah [**Transformasi Digital**](https://elok.ugm.ac.id/course/view.php?id=632) (skill dasar Python), [**Bioinformatika**](https://elok.ugm.ac.id/course/view.php?id=1136), dan **Bioteknologi** (Pengantar Systems & Synthetic Biology). Materi kuliah pengantar systems & synthetic biology (archive Kuliah Bioteknologi semester genap 2020) dapat diakses di: http://ugm.id/lectsystembio2020 & http://ugm.id/lectsyntheticbio2020\n",
    "\n",
    "## Setting Up Environment\n",
    "* Saya merekomendasikan untuk menggunakan OS Ubuntu/Linux (ex: menggunakan [WSL2](https://docs.microsoft.com/en-us/windows/wsl/install-win10))\n",
    "* Ikuti petunjuk instalasi Conda di: https://docs.conda.io/projects/conda/en/latest/user-guide/install/index.html#\n",
    "* Buat environment sesuai petunjuk di https://biosustain.github.io/cell-factory-design-course/setup/\n",
    "jupyter labextension install @jupyter-widgets/jupyterlab-manager\n",
    "jupyter labextension install escher\n",
    "\n",
    "## Database Genome Scale Metabolic Model\n",
    "* Buka database: http://bigg.ucsd.edu/\n",
    "* Cari model: **e_coli_core**\n",
    "* Ada berapa banyak metabolit, reaksi, dan gen pada model tersebut?\n",
    "* Genom apa yang digunakan sebagai dasar dari model tersebut?\n",
    "* Reaksi & stoikiometri?\n",
    "* Escher Map?\n",
    "* Bandingkan [**e_coli_core**](http://bigg.ucsd.edu/models/e_coli_core) dengan [**iML1515**](http://bigg.ucsd.edu/models/iML1515). Apa perbedaan dari kedua model tersebut? Jumlah Metabolit, Reaksi, Gen? Referensi genom? Escher Map? \n",
    "\n",
    "## Eksplorasi dan Simulasi Model"
   ]
  },
  {
   "cell_type": "code",
   "execution_count": 1,
   "id": "phantom-template",
   "metadata": {},
   "outputs": [],
   "source": [
    "# load library\n",
    "from cameo import models\n",
    "from cameo import load_model\n",
    "from cameo import fba\n",
    "from escher import Builder"
   ]
  },
  {
   "cell_type": "code",
   "execution_count": 2,
   "id": "technological-blocking",
   "metadata": {},
   "outputs": [
    {
     "data": {
      "text/html": [
       "\n",
       "        <table>\n",
       "            <tr>\n",
       "                <td><strong>Name</strong></td>\n",
       "                <td>e_coli_core</td>\n",
       "            </tr><tr>\n",
       "                <td><strong>Memory address</strong></td>\n",
       "                <td>0x07f2138423220</td>\n",
       "            </tr><tr>\n",
       "                <td><strong>Number of metabolites</strong></td>\n",
       "                <td>72</td>\n",
       "            </tr><tr>\n",
       "                <td><strong>Number of reactions</strong></td>\n",
       "                <td>95</td>\n",
       "            </tr><tr>\n",
       "                <td><strong>Number of groups</strong></td>\n",
       "                <td>0</td>\n",
       "            </tr><tr>\n",
       "                <td><strong>Objective expression</strong></td>\n",
       "                <td>1.0*BIOMASS_Ecoli_core_w_GAM - 1.0*BIOMASS_Ecoli_core_w_GAM_reverse_712e5</td>\n",
       "            </tr><tr>\n",
       "                <td><strong>Compartments</strong></td>\n",
       "                <td>extracellular space, cytosol</td>\n",
       "            </tr>\n",
       "          </table>"
      ],
      "text/plain": [
       "<Model e_coli_core at 0x7f2138423220>"
      ]
     },
     "execution_count": 2,
     "metadata": {},
     "output_type": "execute_result"
    }
   ],
   "source": [
    "# cari model e coli core\n",
    "e_coli_core = load_model('e_coli_core')\n",
    "\n",
    "# ada berapa banyak metabolit & reaksi? Objektif? \n",
    "e_coli_core"
   ]
  },
  {
   "cell_type": "code",
   "execution_count": 3,
   "id": "concerned-million",
   "metadata": {},
   "outputs": [
    {
     "data": {
      "text/plain": [
       "137"
      ]
     },
     "execution_count": 3,
     "metadata": {},
     "output_type": "execute_result"
    }
   ],
   "source": [
    "# ada berapa banyak gen? \n",
    "len(e_coli_core.genes)"
   ]
  },
  {
   "cell_type": "code",
   "execution_count": 4,
   "id": "contemporary-methodology",
   "metadata": {},
   "outputs": [
    {
     "data": {
      "text/html": [
       "\n",
       "        <table>\n",
       "            <tr>\n",
       "                <td><strong>Reaction identifier</strong></td><td>PFK</td>\n",
       "            </tr><tr>\n",
       "                <td><strong>Name</strong></td><td>Phosphofructokinase</td>\n",
       "            </tr><tr>\n",
       "                <td><strong>Memory address</strong></td>\n",
       "                <td>0x07f2138243fa0</td>\n",
       "            </tr><tr>\n",
       "                <td><strong>Stoichiometry</strong></td>\n",
       "                <td>\n",
       "                    <p style='text-align:right'>atp_c + f6p_c --> adp_c + fdp_c + h_c</p>\n",
       "                    <p style='text-align:right'>ATP C10H12N5O13P3 + D-Fructose 6-phosphate --> ADP C10H12N5O10P2 + D-Fructose 1,6-bisphosphate + H+</p>\n",
       "                </td>\n",
       "            </tr><tr>\n",
       "                <td><strong>GPR</strong></td><td>b3916 or b1723</td>\n",
       "            </tr><tr>\n",
       "                <td><strong>Lower bound</strong></td><td>0.0</td>\n",
       "            </tr><tr>\n",
       "                <td><strong>Upper bound</strong></td><td>1000.0</td>\n",
       "            </tr>\n",
       "        </table>\n",
       "        "
      ],
      "text/plain": [
       "<Reaction PFK at 0x7f2138243fa0>"
      ]
     },
     "execution_count": 4,
     "metadata": {},
     "output_type": "execute_result"
    }
   ],
   "source": [
    "# detail reaksi PFK\n",
    "e_coli_core.reactions.PFK"
   ]
  },
  {
   "cell_type": "code",
   "execution_count": 5,
   "id": "special-scientist",
   "metadata": {},
   "outputs": [
    {
     "name": "stdout",
     "output_type": "stream",
     "text": [
      "Downloading Map from https://escher.github.io/1-0-0/6/maps/Escherichia%20coli/e_coli_core.Core%20metabolism.json\n"
     ]
    },
    {
     "data": {
      "application/vnd.jupyter.widget-view+json": {
       "model_id": "11ea7612f3a9468fa657ddd9da7fb4b2",
       "version_major": 2,
       "version_minor": 0
      },
      "text/plain": [
       "Builder()"
      ]
     },
     "metadata": {},
     "output_type": "display_data"
    }
   ],
   "source": [
    "# load escher map\n",
    "builder = Builder(\n",
    "    map_name='e_coli_core.Core metabolism',\n",
    "    data=e_coli_core,\n",
    ")\n",
    "builder"
   ]
  },
  {
   "cell_type": "code",
   "execution_count": 6,
   "id": "optimum-humor",
   "metadata": {},
   "outputs": [
    {
     "data": {
      "text/html": [
       "<strong>objective value: 0.8739215069684303</strong>"
      ],
      "text/plain": [
       "<cameo.flux_analysis.simulation.FluxDistributionResult at 0x7f21381127c0>"
      ]
     },
     "execution_count": 6,
     "metadata": {},
     "output_type": "execute_result"
    }
   ],
   "source": [
    "# simulasi model\n",
    "s = fba(e_coli_core)\n",
    "s"
   ]
  },
  {
   "cell_type": "code",
   "execution_count": 7,
   "id": "golden-request",
   "metadata": {},
   "outputs": [
    {
     "data": {
      "text/plain": [
       "PFK         7.477382\n",
       "PFL         0.000000\n",
       "PGI         4.860861\n",
       "PGK       -16.023526\n",
       "PGL         4.959985\n",
       "             ...    \n",
       "NADH16     38.534610\n",
       "NADTRHD     0.000000\n",
       "NH4t        4.765319\n",
       "O2t        21.799493\n",
       "PDH         9.282533\n",
       "Name: fluxes, Length: 95, dtype: float64"
      ]
     },
     "execution_count": 7,
     "metadata": {},
     "output_type": "execute_result"
    }
   ],
   "source": [
    "s.fluxes"
   ]
  },
  {
   "cell_type": "code",
   "execution_count": 8,
   "id": "numerous-country",
   "metadata": {},
   "outputs": [
    {
     "name": "stdout",
     "output_type": "stream",
     "text": [
      "Downloading Map from https://escher.github.io/1-0-0/6/maps/Escherichia%20coli/e_coli_core.Core%20metabolism.json\n"
     ]
    },
    {
     "data": {
      "application/vnd.jupyter.widget-view+json": {
       "model_id": "f4ef2a55366049798671fd6bee1b119b",
       "version_major": 2,
       "version_minor": 0
      },
      "text/plain": [
       "Builder(reaction_data={'PFK': 7.477381962160287, 'PFL': 0.0, 'PGI': 4.860861146496827, 'PGK': -16.023526143167…"
      ]
     },
     "metadata": {},
     "output_type": "display_data"
    }
   ],
   "source": [
    "# map fluxes\n",
    "builder = Builder(\n",
    "    map_name='e_coli_core.Core metabolism',\n",
    "    reaction_data=s.fluxes,\n",
    ")\n",
    "builder"
   ]
  },
  {
   "cell_type": "markdown",
   "id": "least-thomas",
   "metadata": {},
   "source": [
    "## Manipulasi Model"
   ]
  }
 ],
 "metadata": {
  "kernelspec": {
   "display_name": "Python 3",
   "language": "python",
   "name": "python3"
  },
  "language_info": {
   "codemirror_mode": {
    "name": "ipython",
    "version": 3
   },
   "file_extension": ".py",
   "mimetype": "text/x-python",
   "name": "python",
   "nbconvert_exporter": "python",
   "pygments_lexer": "ipython3",
   "version": "3.9.2"
  }
 },
 "nbformat": 4,
 "nbformat_minor": 5
}
